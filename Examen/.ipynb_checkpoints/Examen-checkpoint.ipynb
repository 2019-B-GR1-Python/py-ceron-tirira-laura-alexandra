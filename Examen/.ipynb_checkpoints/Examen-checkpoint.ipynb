{
 "cells": [
  {
   "cell_type": "code",
   "execution_count": 4,
   "metadata": {},
   "outputs": [
    {
     "data": {
      "text/plain": [
       "array([0., 0., 0., 0., 0., 0., 0., 0., 0., 0.])"
      ]
     },
     "execution_count": 4,
     "metadata": {},
     "output_type": "execute_result"
    }
   ],
   "source": [
    "#2) Crear un vector de ceros de tamaño 10\n",
    "import numpy as np\n",
    "\n",
    "array= np.zeros([10])\n",
    "\n",
    "array\n"
   ]
  },
  {
   "cell_type": "code",
   "execution_count": 5,
   "metadata": {},
   "outputs": [
    {
     "name": "stdout",
     "output_type": "stream",
     "text": [
      "[0. 0. 0. 0. 0. 0. 0. 0. 0. 0.]\n"
     ]
    }
   ],
   "source": [
    "print (array)"
   ]
  },
  {
   "cell_type": "code",
   "execution_count": 6,
   "metadata": {},
   "outputs": [],
   "source": [
    "#3) Crear un vector de ceros de tamaño 10 y el de la posicion 5 sea igual a 1\n",
    "array[5]=1"
   ]
  },
  {
   "cell_type": "code",
   "execution_count": 7,
   "metadata": {},
   "outputs": [
    {
     "name": "stdout",
     "output_type": "stream",
     "text": [
      "[0. 0. 0. 0. 0. 1. 0. 0. 0. 0.]\n"
     ]
    }
   ],
   "source": [
    "print(array)"
   ]
  },
  {
   "cell_type": "code",
   "execution_count": 8,
   "metadata": {},
   "outputs": [
    {
     "name": "stdout",
     "output_type": "stream",
     "text": [
      "[ 0  1  2  3  4  5  6  7  8  9 10 11 12 13 14 15 16 17 18 19 20 21 22 23\n",
      " 24 25 26 27 28 29 30 31 32 33 34 35 36 37 38 39 40 41 42 43 44 45 46 47\n",
      " 48 49]\n"
     ]
    }
   ],
   "source": [
    "#4) Cambiar el orden de un vector de 50 elementos, el de la posicion 1 es el de la 50 etc\n",
    "\n",
    "array_orden= np.arange(50)\n",
    "\n",
    "print(array_orden)"
   ]
  },
  {
   "cell_type": "code",
   "execution_count": 11,
   "metadata": {},
   "outputs": [],
   "source": [
    "array_cambiar_orden= array_orden[::-1]"
   ]
  },
  {
   "cell_type": "code",
   "execution_count": 12,
   "metadata": {},
   "outputs": [
    {
     "name": "stdout",
     "output_type": "stream",
     "text": [
      "[49 48 47 46 45 44 43 42 41 40 39 38 37 36 35 34 33 32 31 30 29 28 27 26\n",
      " 25 24 23 22 21 20 19 18 17 16 15 14 13 12 11 10  9  8  7  6  5  4  3  2\n",
      "  1  0]\n"
     ]
    }
   ],
   "source": [
    "print(array_cambiar_orden)"
   ]
  },
  {
   "cell_type": "code",
   "execution_count": 21,
   "metadata": {},
   "outputs": [
    {
     "name": "stdout",
     "output_type": "stream",
     "text": [
      "[6 4 1 5 5 3 7 3 7]\n"
     ]
    },
    {
     "data": {
      "text/plain": [
       "array([[6, 4, 1],\n",
       "       [5, 5, 3],\n",
       "       [7, 3, 7]])"
      ]
     },
     "execution_count": 21,
     "metadata": {},
     "output_type": "execute_result"
    }
   ],
   "source": [
    "# 5) Crear una matriz de 3 x 3 con valores del cero al 8\n",
    "\n",
    "matriz= np.random.randint(0, 8, 9)\n",
    "print(matriz)\n",
    "matriz3=matriz.reshape(3,3)\n",
    "matriz3\n"
   ]
  },
  {
   "cell_type": "code",
   "execution_count": 32,
   "metadata": {},
   "outputs": [
    {
     "name": "stdout",
     "output_type": "stream",
     "text": [
      "[1 2 0 0 4 0]\n"
     ]
    },
    {
     "data": {
      "text/plain": [
       "array([ True,  True, False, False,  True, False])"
      ]
     },
     "execution_count": 32,
     "metadata": {},
     "output_type": "execute_result"
    }
   ],
   "source": [
    "#6) Encontrar los indices que no sean cero en un arreglo\n",
    "arreglo = np.array([1, 2, 0, 0, 4, 0])\n",
    "\n",
    "print(arreglo)\n",
    "\n",
    "arreglo > 0\n",
    "\n",
    "################3\n"
   ]
  },
  {
   "cell_type": "code",
   "execution_count": 30,
   "metadata": {},
   "outputs": [
    {
     "data": {
      "text/plain": [
       "array([[1., 0., 0.],\n",
       "       [0., 1., 0.],\n",
       "       [0., 0., 1.]])"
      ]
     },
     "execution_count": 30,
     "metadata": {},
     "output_type": "execute_result"
    }
   ],
   "source": [
    "#7) Crear una matriz de identidad 3 x 3\n",
    "matriz_identidad=np.eye(3,3)\n",
    "matriz_identidad"
   ]
  },
  {
   "cell_type": "code",
   "execution_count": 44,
   "metadata": {},
   "outputs": [
    {
     "name": "stdout",
     "output_type": "stream",
     "text": [
      "[ 0  1  2  3  4  5  6  7  8  9 10 11 12 13 14 15 16 17 18 19 20 21 22 23\n",
      " 24 25 26]\n",
      "[[[ 0  1  2]\n",
      "  [ 3  4  5]\n",
      "  [ 6  7  8]]\n",
      "\n",
      " [[ 9 10 11]\n",
      "  [12 13 14]\n",
      "  [15 16 17]]\n",
      "\n",
      " [[18 19 20]\n",
      "  [21 22 23]\n",
      "  [24 25 26]]]\n"
     ]
    }
   ],
   "source": [
    "#8) Crear una matriz 3 x 3 x 3 con valores randomicos\n",
    "\n",
    "matriz_dimensiones= np.arange(27)\n",
    "\n",
    "print(matriz_dimensiones)\n",
    "\n",
    "matriz_tres= matriz_dimensiones.reshape(3,3,3)\n",
    "\n",
    "print(matriz_tres)"
   ]
  },
  {
   "cell_type": "code",
   "execution_count": 55,
   "metadata": {},
   "outputs": [
    {
     "name": "stdout",
     "output_type": "stream",
     "text": [
      "[  5   6   7   8   9  10  11  12  13  14  15  16  17  18  19  20  21  22\n",
      "  23  24  25  26  27  28  29  30  31  32  33  34  35  36  37  38  39  40\n",
      "  41  42  43  44  45  46  47  48  49  50  51  52  53  54  55  56  57  58\n",
      "  59  60  61  62  63  64  65  66  67  68  69  70  71  72  73  74  75  76\n",
      "  77  78  79  80  81  82  83  84  85  86  87  88  89  90  91  92  93  94\n",
      "  95  96  97  98  99 100 101 102 103 104]\n",
      "[[  5   6   7   8   9  10  11  12  13  14]\n",
      " [ 15  16  17  18  19  20  21  22  23  24]\n",
      " [ 25  26  27  28  29  30  31  32  33  34]\n",
      " [ 35  36  37  38  39  40  41  42  43  44]\n",
      " [ 45  46  47  48  49  50  51  52  53  54]\n",
      " [ 55  56  57  58  59  60  61  62  63  64]\n",
      " [ 65  66  67  68  69  70  71  72  73  74]\n",
      " [ 75  76  77  78  79  80  81  82  83  84]\n",
      " [ 85  86  87  88  89  90  91  92  93  94]\n",
      " [ 95  96  97  98  99 100 101 102 103 104]]\n",
      "Menor\n",
      "5\n",
      "Mayor\n",
      "104\n"
     ]
    }
   ],
   "source": [
    "#9) Crear una matriz 10 x 10 y encontrar el mayor y el menor\n",
    "\n",
    "matriz_dimension= np.arange(5,105,1)\n",
    "\n",
    "print(matriz_dimension)\n",
    "\n",
    "matriz_diez= matriz_dimension.reshape(10,10)\n",
    "\n",
    "print(matriz_diez)\n",
    "\n",
    "print('Menor')\n",
    "print(matriz_diez.min())\n",
    "print('Mayor')\n",
    "print(matriz_diez.max())\n",
    "\n"
   ]
  },
  {
   "cell_type": "code",
   "execution_count": null,
   "metadata": {},
   "outputs": [],
   "source": [
    "#10) Sacar los colores RGB unicos en una imagen (cuales rgb existen ej: 0, 0, 0 - 255,255,255 -> 2 colores)\n",
    "\n"
   ]
  },
  {
   "cell_type": "code",
   "execution_count": null,
   "metadata": {},
   "outputs": [],
   "source": []
  },
  {
   "cell_type": "code",
   "execution_count": null,
   "metadata": {},
   "outputs": [],
   "source": [
    "\n",
    "\n",
    "\n"
   ]
  },
  {
   "cell_type": "code",
   "execution_count": null,
   "metadata": {},
   "outputs": [],
   "source": []
  }
 ],
 "metadata": {
  "kernelspec": {
   "display_name": "Python 3",
   "language": "python",
   "name": "python3"
  },
  "language_info": {
   "codemirror_mode": {
    "name": "ipython",
    "version": 3
   },
   "file_extension": ".py",
   "mimetype": "text/x-python",
   "name": "python",
   "nbconvert_exporter": "python",
   "pygments_lexer": "ipython3",
   "version": "3.7.3"
  }
 },
 "nbformat": 4,
 "nbformat_minor": 2
}
