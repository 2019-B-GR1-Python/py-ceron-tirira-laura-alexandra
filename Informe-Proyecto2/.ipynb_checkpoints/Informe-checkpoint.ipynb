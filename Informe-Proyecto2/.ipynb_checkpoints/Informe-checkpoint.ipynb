{
 "cells": [
  {
   "cell_type": "markdown",
   "metadata": {},
   "source": [
    "![](epn.png \"titulo\")\n",
    "\n",
    "\n",
    "                                                  **ESCUELA POLITÉCNICA NACIONAL**     \n",
    "\n",
    "\n",
    "                                                **FACULTAD DE INGENIERÍA DE SISTEMAS** \n",
    "\n",
    "_______________________________________________________________________________________________________________________________\n",
    "\n",
    "**PERÍODO ACADÉMICO:**2019-B\n",
    "\n",
    "**ASIGNATURA:** PYTHON\n",
    "\n",
    "**PROFESOR:** Ing. Adrián Eguez\n",
    "\n",
    "**GRUPO:** GR1\n",
    "\n",
    "**FECHA:** 2019-02-02\n",
    "\n",
    "**Alumno:** Cerón Laura\n",
    "\n",
    "_______________________________________________________________________________________________________________________________\n",
    "\n",
    "\n",
    "# Tema: Productos Farmacéuticos\n",
    "\n",
    "# Introducción\n",
    "<p style=\"text-align: justify;\">\n",
    "\n",
    "En Ecuador, la industria farmacéutica atiende a dos sectores; el primero de ellos es el del mercado privado, cuyos medicamentos se venden en las farmacias, clínicas privadas y cadenas farmacéuticas; y el segundo es el de salud pública, el cual abastece a través de las compras públicas de fármacos.\n",
    "\n",
    "Al ser las farmacias el canal de distribución final para los laboratorios, las estrategias para la distribución y venta al cliente se orientan fuertemente a este tipo de cadenas de negocios, las mismas que han mostrado un crecimiento a partir de la ampliación de sus servicios.\n",
    "\n",
    "Por ello se realizo webscrapy a la farmacia fybeca y a la farmacia medicity, con el fin de comparar los precios de algunos productos.\n",
    "\n",
    "</p>\n",
    "\n",
    "# Descripción de las columnas\n",
    "\n",
    "Para desarrollo del presente informe se usa dos archivos json producto del web crawling.\n",
    "\n",
    "A continuación se presenta una tabla el nombre y la descripción de cada uno de los archivos:\n",
    "\n",
    "\n",
    "| Nombre columna| Descripción                                       |\n",
    "|:------------- |:----------------------------------------------    |\n",
    "|titulo\t        |Nombre del producto                                |\n",
    "|imagen\t        |Url de la imagen del producto\t                    |\n",
    "|precio\t        |Precio del producto\t                            |\n",
    "|categoria\t    |categoria del producto (medicina, vitaminas, etc)  | \n",
    "|farmacia\t    |Nombre de la farmacia                              | \n",
    "\n",
    "\n",
    "# Desarrollo.\n",
    "\n",
    "\n",
    "\n",
    "## Scraping y Web Crawling \n",
    "\n",
    "A continuación se hara presentara el codigo utilizado para realizar el web crawling."
   ]
  },
  {
   "cell_type": "code",
   "execution_count": null,
   "metadata": {
    "code_folding": []
   },
   "outputs": [],
   "source": [
    "import scrapy\n",
    "from scrapy.spiders import CrawlSpider, Rule\n",
    "from scrapy.linkextractors import LinkExtractor\n",
    "from scrapy.loader import ItemLoader\n",
    "from arania_medicity.items import ProductoMedicity\n",
    "from scrapy.loader.processors import TakeFirst\n",
    "class AraniaMedicity(CrawlSpider):\n",
    "    name = 'arania_medicity'  \n",
    "    start_urls = ['https://www.farmaciasmedicity.com/shop/category/medicinas-1328']\n",
    "    allowed_domains = ['farmaciasmedicity.com']\n",
    "    regla_uno = (Rule( LinkExtractor(), callback='parse_page'),)\n",
    "    url_segmento_permitido = ('category')\n",
    "    regla_dos = ( Rule(LinkExtractor(allow_domains=allowed_domains,allow = url_segmento_permitido), callback='parse_page'),)   \n",
    "    rules = regla_dos\n",
    "    def parse_page(self, response):        \n",
    "        productos = response.xpath('//div[@id=\"grid_list\"]')\n",
    "        categoria_dato=response.request.url.split('/')                \n",
    "        categoria = categoria_dato[5]       \n",
    "        tiene_categoria = False      \n",
    "        if \"cuidado-personal-y-belleza\" in categoria:\n",
    "            tiene_categoria = True        \n",
    "        if(tiene_categoria):\n",
    "            for producto in productos:\n",
    "                producto_loader =ItemLoader(item = ProductoMedicity(),selector = producto)\n",
    "                producto_loader.default_output_processor = TakeFirst()                               \n",
    "                producto_loader.add_css('titulo', 'a::text')\n",
    "                producto_loader.add_css('imagen', 'img::attr(data-zoom-image)')\n",
    "                producto_loader.add_css('precio', 'span.oe_currency_value::text')                 \n",
    "                producto_loader.add_css('categoria','span.oe_currency_value::text')\n",
    "                producto_loader.add_css('farmacia','span.oe_currency_value::text')                    \n",
    "                yield producto_loader.load_item()         "
   ]
  },
  {
   "cell_type": "code",
   "execution_count": null,
   "metadata": {},
   "outputs": [],
   "source": [
    "import scrapy\n",
    "from scrapy.loader.processors import TakeFirst, MapCompose\n",
    "\n",
    "def transformar_url_imagen(texto):        \n",
    "    url_medicity = 'https://www.farmaciasmedicity.com'   \n",
    "    return url_medicity+texto\n",
    "def transformar_precio(texto):     \n",
    "    return texto\n",
    "def transformar_titulo(texto):   \n",
    "    if not(len(texto) == 21 or len(texto) == 17):\n",
    "        return texto\n",
    "def transformar_categoria(texto):   \n",
    "    return \"Belleza\"      \n",
    "def transformar_farmacia(texto):     \n",
    "    return \"Medicity\"      \n",
    "class ProductoMedicity(scrapy.Item):        \n",
    "    titulo = scrapy.Field(input_processor = MapCompose(transformar_titulo), output_processor =  TakeFirst())\n",
    "    imagen = scrapy.Field(input_processor = MapCompose(transformar_url_imagen), output_processor = TakeFirst())\n",
    "    precio = scrapy.Field(input_processor = MapCompose(transformar_precio), output_processor = TakeFirst())\n",
    "    categoria = scrapy.Field(input_processor = MapCompose(transformar_categoria), output_processor = TakeFirst())\n",
    "    farmacia = scrapy.Field(input_processor = MapCompose(transformar_farmacia), output_processor = TakeFirst())\n",
    "class AraniaMedicityItem(scrapy.Item):\n",
    "    # define the fields for your item here like:\n",
    "    # name = scrapy.Field()\n",
    "    pass"
   ]
  },
  {
   "cell_type": "markdown",
   "metadata": {},
   "source": [
    "## Análisis de datos.\n",
    "Una vez obtenido los datos se prodece con el análisis.\n",
    "#### Librerias utilizadas."
   ]
  },
  {
   "cell_type": "code",
   "execution_count": 1,
   "metadata": {},
   "outputs": [],
   "source": [
    "import pandas as pd\n",
    "import matplotlib.pyplot as plt\n",
    "import numpy as np\n",
    "import pylab as pl"
   ]
  },
  {
   "cell_type": "markdown",
   "metadata": {},
   "source": [
    "#### Lectura de archivo."
   ]
  },
  {
   "cell_type": "code",
   "execution_count": 2,
   "metadata": {},
   "outputs": [],
   "source": [
    "path_productos =\"C:\\\\Users\\\\Laura\\\\Documents\\\\GitHub\\\\py-ceron-tirira-laura-alexandra\\\\Informe-Proyecto2\\\\Data\\\\productosFarmaceuticos.json\"\n",
    "\n",
    "df_productos = pd.read_json(path_productos)\n",
    "df = pd.DataFrame(df_productos)"
   ]
  },
  {
   "cell_type": "markdown",
   "metadata": {},
   "source": [
    "## Gráficos\n",
    "\n",
    "#### Número de productos por categoría\n",
    "\n",
    "Se puede observar que la categoría de \"Medicinas\" es la que mas productos tiene."
   ]
  },
  {
   "cell_type": "code",
   "execution_count": 6,
   "metadata": {},
   "outputs": [
    {
     "data": {
      "image/png": "[encoded data removed]",
      "text/plain": [
       "<Figure size 432x216 with 1 Axes>"
      ]
     },
     "metadata": {
      "needs_background": "light"
     },
     "output_type": "display_data"
    }
   ],
   "source": [
    "plt.figure(figsize=(6,3))\n",
    "plt.title('Productos por categoría')\n",
    "plt.xlabel(\"Categoría\")\n",
    "plt.ylabel(\"Productos\")\n",
    "primer_lugar = df.categoria.value_counts().plot(kind='bar', color = 'pink')\n",
    "plt.show()"
   ]
  },
  {
   "cell_type": "markdown",
   "metadata": {},
   "source": [
    "## Número de productos por farmacia\n",
    "#### "
   ]
  },
  {
   "cell_type": "code",
   "execution_count": null,
   "metadata": {},
   "outputs": [],
   "source": [
    "plt.figure(figsize=(6,3))\n",
    "plt.title('Productos por categoría')\n",
    "plt.xlabel(\"Categoría\")\n",
    "plt.ylabel(\"Productos\")\n",
    "primer_lugar = df.categoria.value_counts().plot(kind='bar', color = 'pink')\n",
    "plt.show()"
   ]
  },
  {
   "cell_type": "code",
   "execution_count": null,
   "metadata": {},
   "outputs": [],
   "source": []
  },
  {
   "cell_type": "code",
   "execution_count": null,
   "metadata": {},
   "outputs": [],
   "source": []
  },
  {
   "cell_type": "code",
   "execution_count": null,
   "metadata": {},
   "outputs": [],
   "source": []
  },
  {
   "cell_type": "code",
   "execution_count": null,
   "metadata": {},
   "outputs": [],
   "source": []
  },
  {
   "cell_type": "code",
   "execution_count": null,
   "metadata": {},
   "outputs": [],
   "source": []
  },
  {
   "cell_type": "code",
   "execution_count": null,
   "metadata": {},
   "outputs": [],
   "source": []
  },
  {
   "cell_type": "code",
   "execution_count": null,
   "metadata": {},
   "outputs": [],
   "source": []
  },
  {
   "cell_type": "code",
   "execution_count": null,
   "metadata": {},
   "outputs": [],
   "source": []
  },
  {
   "cell_type": "code",
   "execution_count": null,
   "metadata": {},
   "outputs": [],
   "source": []
  },
  {
   "cell_type": "code",
   "execution_count": null,
   "metadata": {},
   "outputs": [],
   "source": []
  },
  {
   "cell_type": "code",
   "execution_count": null,
   "metadata": {},
   "outputs": [],
   "source": []
  }
 ],
 "metadata": {
  "kernelspec": {
   "display_name": "Python 3",
   "language": "python",
   "name": "python3"
  },
  "language_info": {
   "codemirror_mode": {
    "name": "ipython",
    "version": 3
   },
   "file_extension": ".py",
   "mimetype": "text/x-python",
   "name": "python",
   "nbconvert_exporter": "python",
   "pygments_lexer": "ipython3",
   "version": "3.7.3"
  }
 },
 "nbformat": 4,
 "nbformat_minor": 2
}
