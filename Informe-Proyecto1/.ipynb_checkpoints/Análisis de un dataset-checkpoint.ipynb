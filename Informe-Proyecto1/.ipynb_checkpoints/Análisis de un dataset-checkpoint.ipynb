{
 "cells": [
  {
   "cell_type": "markdown",
   "metadata": {},
   "source": [
    "![](epn.png \"titulo\")\n",
    "\n",
    "\n",
    "                                                  **ESCUELA POLITÉCNICA NACIONAL**     \n",
    "\n",
    "\n",
    "                                                **FACULTAD DE INGENIERÍA DE SISTEMAS** \n",
    "\n",
    "_______________________________________________________________________________________________________________________________\n",
    "\n",
    "**PERÍODO ACADÉMICO:**2019-B\n",
    "\n",
    "**ASIGNATURA:** PYTHON\n",
    "\n",
    "**PROFESOR:** Ing. Adrián Eguez\n",
    "\n",
    "**GRUPO:** GR1\n",
    "\n",
    "**FECHA:** 2019-12-09\n",
    "\n",
    "**Alumno:** Cerón Laura\n",
    "\n",
    "_______________________________________________________________________________________________________________________________\n",
    "\n",
    "\n",
    "# Tema: Matrimonios y divorcios 2018\n",
    "\n",
    "# Introducción\n",
    "<p style=\"text-align: justify;\">\n",
    "\n",
    "El Registro Estadístico de Matrimonios y Divorcios, es una investigación orientada a cuantificar los hechos vitales ocurridos e inscritos en las oficinas de Registro Civil a nivel nacional. La información que se investiga se obtiene a través de las inscripciones que se realizan en las oficinas de la Dirección Nacional de Registro Civil, Identificación y Cedulación y Corporación Registro Civil de Guayaquil, durante el año de investigación.\n",
    "\n",
    "Además, se incluye en la publicación la información de Reconocimientos y Adopciones por provincias y meses de inscripción.\n",
    "\n",
    "El INEC es el encargado del procesamiento.\n",
    "La periodicidad de la publicación es anual.\n",
    "\n",
    "</p>\n",
    "\n",
    "# Descripción de las columnas\n",
    "\n",
    "Para desarrollo del presente informe se usa dos archivos csv: uno de matrimonios y uno de divorcios, los datos son públicos y se encuentran en la página web del INEC. \n",
    "\n",
    "A continuación se presenta una tabla el nombre y la descripción de cada uno de los archivos:\n",
    "\n",
    "**Matrimonios**\n",
    "\n",
    "| Nombre columna| Descripción                                              |\n",
    "|:------------- |:-----------------------------------------------------    |\n",
    "|ofi_insc\t    |Oficina del Registro Civil\t                               |\n",
    "|prov_insc\t    |Provincia de inscripción\t                               |\n",
    "|cant_insc\t    |Cantón de inscripción\t                                   |\n",
    "|parr_insc\t    |Parroquia de inscripción\t                               | \n",
    "|anio_insc\t    |Año de inscripción\t                                       | \n",
    "|mes_insc\t    |Mes de inscripción\t                                       |\n",
    "|dia_insc\t    |Día de inscripción\t                                       |\n",
    "|fecha_insc\t    |Fecha de inscripción\t                                   | \n",
    "|hijos_rec\t    |Número de hijos reconocidos por el presente matrimonio\t   |\n",
    "|mcap_bie\t    |Registra capitulación de bienes\t                       |\n",
    "|nac_hom\t    |Nacionalidad del contrayente\t                           | \n",
    "|cod_paish\t    |Código del País del contrayente                           |\n",
    "|anio_nach\t    |Año de nacimiento del contrayente\t                       |\n",
    "|mes_nach\t    |Mes de nacimiento del contrayente\t                       |\n",
    "|dia_nach\t    |Día de nacimiento del contrayente\t                       |\n",
    "|fecha_nach\t    |Fecha de nacimiento del contrayente\t                   |\n",
    "|edad_hom\t    |Edad del contrayente\t                                   |\n",
    "|nmatanth\t    |Matrimonios anteriores del contrayente\t                   |\n",
    "|est_civih\t    |Estado civil anterior del contrayente\t                   | \n",
    "|p_etnica_hom\t|Autoidentificación étnica del contrayente\t               |\n",
    "|niv_insth\t    |Nivel de instrucción alcanzado del contrayente\t           |\n",
    "|sabe_leerh\t    |Sabe leer y escribir el contrayente\t                   |\n",
    "|prov_habh\t    |Provincia de residencia habitual del contrayente\t       | \n",
    "|cant_habh\t    |Cantón de residencia habitual del contrayente\t           |\n",
    "|parr_habh\t    |Parroquia de residencia habitual del contrayente\t       |\n",
    "|area_resh\t    |Area de residencia habitual del contrayente\t           |\n",
    "|nac_muj\t    |Nacionalidad de la contrayente\t                           |\n",
    "|cod_paism\t    |Código del país de la contrayente\t                       |\n",
    "|anio_nacm\t    |Año de nacimiento de la contrayente\t                   | \n",
    "|mes_nacm\t    |Mes de nacimiento de la contrayente\t                   |   \n",
    "|dia_nacm\t    |Día de nacimiento de la contrayente\t                   |\n",
    "|fecha_nacm\t    |Fecha de nacimiento de la contrayente\t                   |\n",
    "|edad_muj\t    |Edad de la contrayente\t                                   |\n",
    "|nmatantm\t    |Matrimonios anteriores de la contrayente\t               |\n",
    "|est_civim\t    |Estado civil anterior de la contrayente\t               |\n",
    "|p_etnica_muj\t|Autoidentificación étnica de la contrayente\t           |\n",
    "|niv_instm\t    |Nivel de instrucción alcanzado de la contrayente          |\n",
    "|sabe_leerm\t    |Sabe leer y escribir la contrayente\t                   |\n",
    "|prov_habm\t    |Provincia de residencia habitual de la contrayente        |\n",
    "|cant_habm\t    |Cantón de residencia habitual de la contrayente\t       |\n",
    "|parr_habm\t    |Parroquia de residencia habitual de la contrayente        |\n",
    "|area_resm\t    |Área de residencia habitual de la  contrayente\t           |\n",
    "\n",
    "\n",
    "**Divorcios**\n",
    "\n",
    "| Nombre columna| Descripción                                           |\n",
    "|:------------- |:------------------------------------------------------|\n",
    "|ofi_insc\t    |Oficina del Registro Civil\t                            |\n",
    "|prov_insc\t    |Provincia de inscripción\t\t\t\t\t\t\t\t|\t\n",
    "|cant_insc\t\t|Cantón  de inscripción\t\t\t\t\t\t\t\t\t|\n",
    "|parr_insc\t\t|Parroquia  de inscripción\t\t\t\t\t\t\t\t|\n",
    "|anio_insc\t\t|Año de inscripción del divorcio\t\t\t\t\t\t|\n",
    "|mes_insc\t\t|Mes de inscripción del divorcio\t\t\t\t\t\t|\n",
    "|dia_insc\t\t|Día de inscripción del divorcio\t\t\t\t\t\t|\n",
    "|fecha_insc\t\t|Fecha de inscripción del divorcio\t\t\t\t\t\t|\n",
    "|anio_div\t\t|Año de divorcio\t\t\t\t\t\t\t\t\t\t|\n",
    "|mes_div\t\t|Mes de divorcio\t\t\t\t\t\t\t\t\t\t|\n",
    "|dia_div\t\t|Día de divorcio\t\t\t\t\t\t\t\t\t\t|\n",
    "|fecha_div\t\t|Fecha divorcio\t\t\t\t\t\t\t\t\t\t\t|\n",
    "|anio_mat\t\t|Año del matrimonio\t\t\t\t\t\t\t\t\t\t|\n",
    "|mes_mat\t\t|Mes del matrimonio\t\t\t\t\t\t\t\t\t\t|\n",
    "|dia_mat\t\t|Día del matrimonio\t\t\t\t\t\t\t\t\t\t|\n",
    "|fecha_mat\t\t|Fecha de matrimonio\t\t\t\t\t\t\t\t\t|\t\t\t\n",
    "|mcap_bie\t\t|¿Registra capitulación de bienes?\t\t\t\t\t\t|\n",
    "|dur_mat\t\t|Duración del matrimonio\t\t\t\t\t\t\t\t|\n",
    "|cau_div\t\t|Divorcios por mutuo consentimiento o causas de divorcio|\n",
    "|nac_hom\t\t|Nacionalidad del divorciado\t\t\t\t\t\t\t|\n",
    "|cod_paish\t\t|Código del país del divorciado\t\t\t\t\t\t\t|\n",
    "|anio_nach\t\t|Año de nacimiento del divorciado\t\t\t\t\t\t|\n",
    "|mes_nach\t\t|Mes de nacimiento del divorciado\t\t\t\t\t\t|\n",
    "|dia_nach\t\t|Día de nacimiento del divorciado\t\t\t\t\t\t|\n",
    "|fecha_nach\t\t|Fecha de nacimiento del divorciado\t\t\t\t\t\t|\n",
    "|edad_hom\t\t|Edad del divorciado a la fecha de inscripción\t\t\t|\n",
    "|hijos_hom\t\t|Números de hijos a cargo del divorciado\t\t\t\t|\n",
    "|p_etnica_hom\t|Autoidentificación étnica del divorciado\t\t\t\t|\t\n",
    "|niv_insth\t\t|Nivel de instrucción del divorciado\t\t\t\t\t|\n",
    "|sabe_leerh\t\t|Sabe leer y escribir el divorciado\t\t\t\t\t\t|\n",
    "|prov_habh\t\t|Provincia residencia habitual del divorciado\t\t\t|\n",
    "|cant_habh\t\t|Cantón residencia habitual del divorciado\t\t\t\t|\n",
    "|parr_habh\t\t|Parroquia residencia habitual del divorciado\t\t\t|\t\n",
    "|area_resh\t\t|UsO INEC  Área de resdiencia habitual del divorciado\t|\n",
    "|nac_muj\t\t|Nacionalidad de la divorciada\t\t\t\t\t\t\t|\n",
    "|cod_paism\t\t|Código del país de la divorciada\t\t\t\t\t\t|\t\n",
    "|anio_nacm\t\t|Año de nacimiento de la divorciada\t\t\t\t\t\t|\n",
    "|mes_nacm\t\t|Mes de nacimiento de la divorciada\t\t\t\t\t\t|\n",
    "|dia_nacm\t\t|Día de nacimiento de la divorciada\t\t\t\t\t\t|\n",
    "|fecha_nacm\t\t|Fecha de nacimiento de la divorciada\t\t\t\t\t|\t\n",
    "|edad_muj\t\t|Edad de la divorciada a la fecha de inscripción\t\t|\n",
    "|hijos_muj\t\t|Número de hijos a cargo de la divorciada\t\t\t\t|\n",
    "|p_etnica_muj\t|Autoidentificación étnica de la divorciada\t\t\t\t|\n",
    "|niv_instm\t\t|Nivel de instrucción de la divorciada\t\t\t\t\t|\n",
    "|sabe_leerm\t\t|Sabe leer y escribir la divorciada\t\t\t\t\t\t|\n",
    "|prov_habm\t\t|Provincia residencia habitual de la divorciada\t\t\t|\n",
    "|cant_habm\t\t|Cantón residencia habitual de la divorciada\t\t\t|\n",
    "|parr_habm\t\t|Parroquia residencia habitual de la divorciada\t\t\t|\n",
    "|area_resm\t\t|USO INEC Área de residencia habitual de la divorciada\t|\n",
    "\n",
    "\n",
    "\n",
    "# Desarrollo.\n",
    "\n",
    "## Librerías utilizadas.\n",
    "\n",
    "Las librerías utilizadas para realizar el presente análisis son: pandas, matplotlib, numpy, pylab.\n",
    "Las mismas que son importadas de la siguiente manera:"
   ]
  },
  {
   "cell_type": "code",
   "execution_count": 2,
   "metadata": {},
   "outputs": [],
   "source": [
    "import pandas as pd\n",
    "import matplotlib.pyplot as plt\n",
    "import numpy as np\n",
    "import pylab as pl"
   ]
  },
  {
   "cell_type": "markdown",
   "metadata": {},
   "source": [
    "#### Lectura de archivos."
   ]
  },
  {
   "cell_type": "code",
   "execution_count": null,
   "metadata": {},
   "outputs": [],
   "source": [
    "#path de los archivos\n",
    "path_matrimonios =\"C:\\\\Users\\\\Laura\\\\Documents\\\\GitHub\\\\py-ceron-tirira-laura-alexandra\\\\Informe Proyecto1\\\\Data\\\\EMA_2018.csv\"\n",
    "path_divorcios =\"C:\\\\Users\\\\Laura\\\\Documents\\\\GitHub\\\\py-ceron-tirira-laura-alexandra\\\\Informe-Proyecto1\\\\Data\\\\EDV_2018.csv\"\n",
    "#cargar datos\n",
    "df_matrimonios = pd.read_csv(path_matrimonios, delimiter=';')\n",
    "df = pd.DataFrame(data=df_matrimonios)\n",
    "df_div = pd.read_csv(path_divorcios, delimiter=';')\n",
    "df_divorcios = pd.DataFrame(data=df_div)"
   ]
  },
  {
   "cell_type": "markdown",
   "metadata": {},
   "source": [
    "##### Limpieza de datos"
   ]
  },
  {
   "cell_type": "code",
   "execution_count": null,
   "metadata": {},
   "outputs": [],
   "source": [
    "df.hijos_rec = df.hijos_rec.replace({99: 0})\n",
    "df.nmatanth = df.nmatanth.replace({99:0})\n",
    "df.nmatantm= df.nmatantm.replace({99:0})\n",
    "df.anio_nach= df.anio_nach.replace({9999:0})\n",
    "df_divorcios.hijos_hom = df_divorcios.hijos_hom.replace({99: 0})\n",
    "df_divorcios.hijos_muj = df_divorcios.hijos_muj.replace({99: 0})"
   ]
  },
  {
   "cell_type": "markdown",
   "metadata": {},
   "source": [
    "## Gráficos\n",
    "#### Matrimonios por edad.\n",
    "El grafico representa al número de hombres y mujeres que contrajeron matrimonio de acuerdo a edad.\n",
    "\n",
    "Solución:\n"
   ]
  },
  {
   "cell_type": "code",
   "execution_count": null,
   "metadata": {},
   "outputs": [],
   "source": [
    "#análisis de datos\n",
    "df3 = df.groupby('edad_hom')['edad_hom'].count()\n",
    "df4 = df.groupby('edad_muj')['edad_muj'].count()\n",
    "# preparar los datos\n",
    "df6=pd.concat([df3, df4], axis=1)\n",
    "df6.edad_muj = df6.edad_muj.replace({None: 0})\n",
    "df7= df6.reset_index() \n",
    "datos_edad = pd.DataFrame(df7, columns=['Edad', 'Hombres','Mujeres'])\n",
    "datos_edad = df7.rename(columns={'index':'Edad','edad_hom':'Hombres','edad_muj':'Mujeres'})\n",
    "datos_hombres = datos_edad[\"Hombres\"].tolist()\n",
    "datos_mujeres= datos_edad[\"Mujeres\"].tolist()\n",
    "datos_edad_grafico= datos_edad[\"Edad\"].tolist()\n",
    "datos= [datos_hombres,datos_mujeres] \n",
    "#graficar\n",
    "X = np.arange(81)\n",
    "plt.figure(figsize=(50,10))\n",
    "pl.xlabel('Edad')\n",
    "pl.ylabel('Cantidad')\n",
    "pl.title('Matrimonios de hombres y mujeres por edades') \n",
    "plt.bar(X + 0.00, datos[0], color = \"b\", width=0.25, label='Hombres')\n",
    "plt.bar(X + 0.25, datos[1], color = \"r\", width=0.25, label='Mujeres')\n",
    "plt.xticks(X +0.10, datos_edad_grafico)\n",
    "plt.axis([0, 85, 0, 3700])\n",
    "plt.legend()"
   ]
  },
  {
   "cell_type": "markdown",
   "metadata": {},
   "source": [
    "Resultado: \n",
    "\n",
    "![](matrimonioPorEdad.png \"Matrimonios por edad\")"
   ]
  },
  {
   "cell_type": "markdown",
   "metadata": {},
   "source": [
    "#### Matrimonio por mes.\n",
    "\n",
    "El gráfico representa en número de matrimonios que se llevaron a cabo por cada mes.\n",
    "\n",
    "Solución:"
   ]
  },
  {
   "cell_type": "code",
   "execution_count": null,
   "metadata": {},
   "outputs": [],
   "source": [
    "#Análisis de datos\n",
    "df8= df['mes_insc'].value_counts()\n",
    "df9= df8.reset_index() \n",
    "datos_mes = df9.rename(columns={'index':'Mes','mes_insc':'Matrimonios'})\n",
    "#preparar los datos\n",
    "orden=[12,8,3,10,11,7,2,4,5,9,6,1]\n",
    "serie_a= pd.Series(orden)\n",
    "datos_mes[\"orden\"] = serie_a\n",
    "mes_dat = datos_mes.sort_values('orden')\n",
    "mes = np.array(mes_dat[\"Mes\"])\n",
    "matrimonios = np.array(datos_mes[\"Matrimonios\"])\n",
    "#graficar\n",
    "X = mes\n",
    "Y = matrimonios\n",
    "plt.figure(figsize=(12,10))\n",
    "plt.scatter(X, Y, s=100, alpha=0.5)"
   ]
  },
  {
   "cell_type": "markdown",
   "metadata": {},
   "source": [
    "Resultado:\n",
    "\n",
    "![](matrimoniosPorMes.png \"Matrimonios por mes\")"
   ]
  },
  {
   "cell_type": "markdown",
   "metadata": {},
   "source": [
    "#### Años que llevo el matrimonio"
   ]
  },
  {
   "cell_type": "markdown",
   "metadata": {},
   "source": [
    "\n",
    "El presente grafico muestra cuantos años duro el matrimonio.\n",
    "\n",
    "Solución:\n"
   ]
  },
  {
   "cell_type": "code",
   "execution_count": null,
   "metadata": {},
   "outputs": [],
   "source": [
    "#análisis de datos\n",
    "df12= df_divorcios['dur_mat'].value_counts()\n",
    "df13= df12.reset_index() \n",
    "df_dm = df13.rename(columns={'index':'numero_anios','dur_mat':'duracion_matrimonio'})\n",
    "datos_dm = df_dm.sort_values('numero_anios')\n",
    "#graficar\n",
    "plt.figure(figsize=(18,10))\n",
    "lista1 = datos_dm[\"duracion_matrimonio\"].tolist()\n",
    "plt.title(\"Duración del matrimonio\")\n",
    "plt.xlabel(\"Duración matrimonio (Años)\")\n",
    "plt.ylabel(\"Número de matrimonios\")\n",
    "indice = np.arange(70)\n",
    "plt.xticks(indice,np.array(datos_dm[\"numero_anios\"]))  \n",
    "plt.plot(lista1, 'o-')\n",
    "plt.axis([0, 67, 0, 1300])\n",
    "plt.show()\n"
   ]
  },
  {
   "cell_type": "markdown",
   "metadata": {},
   "source": [
    "Resultado:\n",
    "\n",
    "![](matrimonioDuracion.png \"Años de matrimonio\")\n"
   ]
  },
  {
   "cell_type": "markdown",
   "metadata": {},
   "source": [
    "#### Matrimonio por estado civil\n",
    "\n",
    "El presente grafico muestra la cantidad de hombres y mujeres con el estado civil anterior a contraer matrimonio.\n",
    "\n",
    "Solución:\n"
   ]
  },
  {
   "cell_type": "code",
   "execution_count": null,
   "metadata": {},
   "outputs": [],
   "source": [
    "#Análisis de datos\n",
    "#hombres\n",
    "df10= df['est_civih'].value_counts()\n",
    "df11= df10.reset_index() \n",
    "datos_ech = df11.rename(columns={'index':'estado_civil','est_civih':'Matrimonios'})\n",
    "#mujeres\n",
    "df12= df['est_civim'].value_counts()\n",
    "df13= df12.reset_index() \n",
    "datos_ecm = df13.rename(columns={'index':'estado_civil','est_civim':'Matrimonios'})\n",
    "#preparar los datos\n",
    "x = datos_ech[\"estado_civil\"]\n",
    "y = datos_ech[\"Matrimonios\"]\n",
    "xm = datos_ecm[\"estado_civil\"]\n",
    "ym = datos_ecm[\"Matrimonios\"]\n",
    "#graficar primero\n",
    "#plt.figure()\n",
    "plt.plot(x, y, color=\"blue\", linewidth=2.5, linestyle=\"-\")\n",
    "plt.subplot(1,2,1)\n",
    "plt.plot(x,y)\n",
    "plt.setp(plt.gca().get_xticklabels(), rotation=45, horizontalalignment='right')\n",
    "plt.setp(plt.gca().get_yticklabels(), rotation=45, horizontalalignment='right')\n",
    "plt.subplot(1,2,2)\n",
    "#graficar el segundo\n",
    "plt.plot(xm,ym, color=\"orange\", linewidth=2.5, linestyle=\"-\")\n",
    "plt.setp(plt.gca().get_xticklabels(), rotation=45, horizontalalignment='right')\n",
    "plt.setp(plt.gca().get_yticklabels(), rotation=45, horizontalalignment='right')\n"
   ]
  },
  {
   "cell_type": "markdown",
   "metadata": {},
   "source": [
    "Resultado:\n",
    "![](matrimonioPorEstadoCivil.png \"Estado civil anterior a casarse\")"
   ]
  },
  {
   "cell_type": "markdown",
   "metadata": {},
   "source": [
    "#### Matrimonio por provincia.\n",
    "\n",
    "El gráfico muestra la cantidad de matrimonios por cada provincia.\n",
    "\n",
    "Solución:\n"
   ]
  },
  {
   "cell_type": "code",
   "execution_count": null,
   "metadata": {},
   "outputs": [],
   "source": [
    "#análisis de datos\n",
    "df16= df['prov_insc'].value_counts()\n",
    "df17= df16.reset_index() \n",
    "datos_dp = df17.rename(columns={'index':'Provincia','prov_insc':'Matrimonios'})\n",
    "#preparar los datos\n",
    "provincia_d = np.array(datos_dp[\"Provincia\"])\n",
    "divorcios_d = np.array(datos_dp[\"Matrimonios\"])\n",
    "#graficar\n",
    "X = provincia_d\n",
    "Y = divorcios_d\n",
    "plt.figure(figsize=(23,10))\n",
    "plt.bar(X, Y, color=\"pink\")\n",
    "plt.title(\"Matrimonios por provincia\")\n",
    "plt.setp(plt.gca().get_xticklabels(), rotation=45, horizontalalignment='right')\n"
   ]
  },
  {
   "cell_type": "markdown",
   "metadata": {},
   "source": [
    "Resultado:\n",
    "![](matrimoniosPorProvincia.png \"Matrimonios por provincia\")\n"
   ]
  },
  {
   "cell_type": "markdown",
   "metadata": {},
   "source": [
    "#### Divorcios por año\n",
    "\n",
    "El gráfico muestra la cantidad de divorcios por cada año.\n",
    "\n",
    "Solución:\n"
   ]
  },
  {
   "cell_type": "code",
   "execution_count": null,
   "metadata": {},
   "outputs": [],
   "source": [
    "#análisis de datos\n",
    "df21= df_divorcios['anio_div'].value_counts()\n",
    "df22= df21.reset_index() \n",
    "datos_anio = df22.rename(columns={'index':'Anio','anio_div':'Divorcios'})\n",
    "#preparar los datos\n",
    "x= np.array(datos_anio['Anio'])\n",
    "y=np.array(datos_anio['Divorcios'])\n",
    "#graficar\n",
    "plt.plot(x,y)\n",
    "plt.xlabel('Año')\n",
    "plt.ylabel('Cantidad Divorcios')\n",
    "plt.title(\"Cantidad de divorcios por año\")\n",
    "plt.fill_between(x,y,0,color=\"pink\")\n",
    "plt.axis([1984, 2020, 0, 21000])\n",
    "plt.show()"
   ]
  },
  {
   "cell_type": "markdown",
   "metadata": {},
   "source": [
    "\n",
    "Resultado:\n",
    "![](divorciosPorAnio.png \"Divorcios por año\")\n"
   ]
  },
  {
   "cell_type": "markdown",
   "metadata": {},
   "source": [
    "#### Divorcios por nivel de instrucción.\n",
    "\n",
    "El gráfico muestra el número de divorcios por el nivel de instrucción tanto del hombre como de la mujer.\n",
    "\n",
    "Solución:\n"
   ]
  },
  {
   "cell_type": "code",
   "execution_count": null,
   "metadata": {},
   "outputs": [],
   "source": [
    "#análisis de datos\n",
    "df25= df_divorcios['niv_insth'].value_counts()\n",
    "df26= df_divorcios['niv_instm'].value_counts()\n",
    "#preparar los datos\n",
    "df30= df25.reset_index() \n",
    "datos_ih = df30.rename(columns={'index':'Instrucion','niv_insth':'Hombres'})\n",
    "df31= df26.reset_index() \n",
    "datos_im = df31.rename(columns={'index':'Instrucion','niv_instm':'Mujeres'})\n",
    "orden=[5,7,3,4,2,8,9,10,6,1,11]\n",
    "serie_a= pd.Series(orden)\n",
    "datos_ih[\"orden\"] = serie_a\n",
    "df_ih = datos_ih.sort_values('orden')\n",
    "datos_im[\"orden\"] = serie_a\n",
    "df_im = datos_im.sort_values('orden')\n",
    "datos_ins = pd.merge(df_ih, df_im, on='orden')\n",
    "#graficar\n",
    "instruccion = datos_ins[\"Instrucion_x\"]\n",
    "hombres_i = np.array(datos_ins[\"Hombres\"])\n",
    "mujeres_i = np.array(datos_ins[\"Mujeres\"])\n",
    "ind = [x for x, _ in enumerate(instruccion)]\n",
    "plt.figure(figsize=(10,15))\n",
    "plt.bar(ind, mujeres_i, width=0.8, label='Mujeres', color='silver', bottom=hombres_i)\n",
    "plt.bar(ind, hombres_i, width=0.8, label='Hombres', color='gold')\n",
    "plt.xticks(ind, instruccion)\n",
    "plt.ylabel(\"Cantidad\")\n",
    "plt.xlabel(\"Instrucción\")\n",
    "plt.legend(loc=\"upper right\")\n",
    "plt.title(\"Divorcios de hombres y mujeres por instrucción\")\n",
    "plt.setp(plt.gca().get_xticklabels(), rotation=45, horizontalalignment='right')\n",
    "plt.show()"
   ]
  },
  {
   "cell_type": "markdown",
   "metadata": {},
   "source": [
    "Resultado:\n",
    "\n"
   ]
  },
  {
   "cell_type": "markdown",
   "metadata": {},
   "source": [
    "#### Número de hijos por cada causa del divorcio\n",
    "\n",
    "El grafico muestra el número de hijos que se quedaron a a cargo tanto el divorciado como la divorciada por cada causa de divorcio.\n",
    "\n",
    "Solución:\n"
   ]
  },
  {
   "cell_type": "code",
   "execution_count": null,
   "metadata": {},
   "outputs": [],
   "source": [
    "#limpieza de datos\n",
    "df_divorcios.hijos_hom = df_divorcios.hijos_hom.replace({99: 0})\n",
    "df_divorcios.hijos_muj = df_divorcios.hijos_muj.replace({99: 0})\n",
    "#analisis de datos\n",
    "df_divorcios[\"suma_hijos\"]=df_divorcios[\"hijos_hom\"] + df_divorcios[\"hijos_muj\"]\n",
    "df14 = df_divorcios.groupby('cau_div')['suma_hijos'].sum()\n",
    "df15= df14.reset_index() \n",
    "df_hc = df15.rename(columns={'cau_div':'causa','suma_hijos':'numero_hijos'})\n",
    "datos_hc = df_hc.sort_values('numero_hijos')\n",
    "#graficar\n",
    "x = np.array(datos_hc[\"causa\"])\n",
    "y = np.array(datos_hc[\"numero_hijos\"])\n",
    "plt.figure(figsize=(10,6))\n",
    "plt.plot(x, y, 'rs')\n",
    "plt.title(\"Número de hijos segun la causa de divorcio\")\n",
    "plt.setp(plt.gca().get_xticklabels(), rotation=60, horizontalalignment='right')\n",
    "plt.show()\n"
   ]
  },
  {
   "cell_type": "markdown",
   "metadata": {},
   "source": [
    "Resultado:\n",
    "![](divorcioNumHijoPorCausa.png \"Número de hijos por cada causa del divorcio\")\n"
   ]
  },
  {
   "cell_type": "markdown",
   "metadata": {},
   "source": [
    "#### Divorcios por provincia.\n",
    "\n",
    "El gráfico muestra el número de divorcios por cada provincia.\n",
    "\n",
    "Solución:"
   ]
  },
  {
   "cell_type": "code",
   "execution_count": null,
   "metadata": {},
   "outputs": [],
   "source": [
    "#limpieza de datos.\n",
    "df_divorcios.hijos_hom = df_divorcios.hijos_hom.replace({99: 0})\n",
    "df_divorcios.hijos_muj = df_divorcios.hijos_muj.replace({99: 0})\n",
    "#Análisis de datos\n",
    "df18= df_divorcios['prov_insc'].value_counts()\n",
    "df19= df18.reset_index() \n",
    "datos_provincia = df19.rename(columns={'index':'Provincia','prov_insc':'Divorcios'})\n",
    "#Prepar los datos\n",
    "provincia = (datos_provincia[\"Provincia\"]).tolist()\n",
    "divorcio = (datos_provincia[\"Divorcios\"]).tolist()\n",
    "#graficar\n",
    "plt.figure(figsize=(40,15))\n",
    "plt.pie(divorcio, labels=provincia, autopct='%1.1f%%', shadow=True)\n",
    "plt.title(\"Divorcios por provincia\", bbox={\"facecolor\":\"0.8\", \"pad\":5})"
   ]
  },
  {
   "cell_type": "markdown",
   "metadata": {},
   "source": [
    "Resultado:\n",
    "![](divorciosPorProvincia.png \"Divorcios por provincia\")\n"
   ]
  },
  {
   "cell_type": "markdown",
   "metadata": {},
   "source": [
    "#### Divorcios por causa.\n",
    "\n",
    "El gráfico muestra el número de divorcios por cada causa de divorcio.\n",
    "\n",
    "Solucion:\n"
   ]
  },
  {
   "cell_type": "code",
   "execution_count": null,
   "metadata": {},
   "outputs": [],
   "source": [
    "#análsis de datos\n",
    "df23= df_divorcios['cau_div'].value_counts()\n",
    "df24= df23.reset_index() \n",
    "datos_causa = df24.rename(columns={'index':'Causa','cau_div':'Divorcios'})\n",
    "#preparar los datos\n",
    "height = datos_causa['Divorcios']\n",
    "bars = datos_causa['Causa']\n",
    "#graficar Datos\n",
    "y_pos = np.arange(len(bars))\n",
    "plt.xlabel('Cantidad Divorcios')\n",
    "plt.title(\"Cantidad de divorcios por causa\")\n",
    "plt.barh(y_pos, height)\n",
    "plt.yticks(y_pos, bars)\n",
    "plt.show()\n"
   ]
  },
  {
   "cell_type": "markdown",
   "metadata": {},
   "source": [
    "Resultado:\n",
    "![](divorciosPorCausa.png \"Divorcios por causa\")\n",
    "\n"
   ]
  },
  {
   "cell_type": "markdown",
   "metadata": {},
   "source": [
    "### Bibliografia\n",
    "[INEC](https://www.ecuadorencifras.gob.ec/matrimonios-divorcios/)\n",
    "\n",
    "[guia markdown](https://guides.github.com/features/mastering-markdown/)\n",
    "\n",
    "[matplotlib pyplot](https://matplotlib.org/3.1.1/api/pyplot_summary.html)"
   ]
  },
  {
   "cell_type": "code",
   "execution_count": null,
   "metadata": {},
   "outputs": [],
   "source": []
  }
 ],
 "metadata": {
  "kernelspec": {
   "display_name": "Python 3",
   "language": "python",
   "name": "python3"
  },
  "language_info": {
   "codemirror_mode": {
    "name": "ipython",
    "version": 3
   },
   "file_extension": ".py",
   "mimetype": "text/x-python",
   "name": "python",
   "nbconvert_exporter": "python",
   "pygments_lexer": "ipython3",
   "version": "3.7.3"
  }
 },
 "nbformat": 4,
 "nbformat_minor": 2
}
