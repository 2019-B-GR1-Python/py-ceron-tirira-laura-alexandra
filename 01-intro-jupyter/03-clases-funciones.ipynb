{
 "cells": [
  {
   "cell_type": "code",
   "execution_count": 1,
   "metadata": {},
   "outputs": [
    {
     "data": {
      "text/plain": [
       "4"
      ]
     },
     "execution_count": 1,
     "metadata": {},
     "output_type": "execute_result"
    }
   ],
   "source": [
    "#funciones lamda \n",
    "#se usan para funciones simples\n",
    "def elevar_cuadrado(numero):\n",
    "    return numero*numero\n",
    "\n",
    "\n",
    "elevar_cuadrado(2)\n"
   ]
  },
  {
   "cell_type": "code",
   "execution_count": 2,
   "metadata": {},
   "outputs": [
    {
     "data": {
      "text/plain": [
       "4"
      ]
     },
     "execution_count": 2,
     "metadata": {},
     "output_type": "execute_result"
    }
   ],
   "source": [
    "elevar_al_cuadrado_lambda= lambda numero: numero * numero\n",
    "\n",
    "elevar_al_cuadrado_lambda(2)"
   ]
  },
  {
   "cell_type": "code",
   "execution_count": 3,
   "metadata": {},
   "outputs": [
    {
     "data": {
      "text/plain": [
       "9"
      ]
     },
     "execution_count": 3,
     "metadata": {},
     "output_type": "execute_result"
    }
   ],
   "source": [
    "elevar_al_cuadrado_lambda2 = lambda x: x*x\n",
    "elevar_al_cuadrado_lambda2(3)"
   ]
  },
  {
   "cell_type": "code",
   "execution_count": 4,
   "metadata": {},
   "outputs": [
    {
     "name": "stdout",
     "output_type": "stream",
     "text": [
      "Mensaje: Laura\n"
     ]
    }
   ],
   "source": [
    "imprimir_mensaje = lambda mensaje: print(f\"Mensaje: {mensaje}\")\n",
    "\n",
    "imprimir_mensaje(\"Laura\")"
   ]
  },
  {
   "cell_type": "code",
   "execution_count": 6,
   "metadata": {},
   "outputs": [
    {
     "data": {
      "text/plain": [
       "8"
      ]
     },
     "execution_count": 6,
     "metadata": {},
     "output_type": "execute_result"
    }
   ],
   "source": [
    "suma_dos_numeros = lambda num_uno, num_dos : num_uno + num_dos\n",
    "\n",
    "suma_dos_numeros(3,5)"
   ]
  },
  {
   "cell_type": "code",
   "execution_count": 7,
   "metadata": {},
   "outputs": [
    {
     "data": {
      "text/plain": [
       "9"
      ]
     },
     "execution_count": 7,
     "metadata": {},
     "output_type": "execute_result"
    }
   ],
   "source": [
    "suma_dos_numeros = lambda x, y : x + y\n",
    "\n",
    "suma_dos_numeros(3,6)"
   ]
  },
  {
   "cell_type": "code",
   "execution_count": 8,
   "metadata": {},
   "outputs": [
    {
     "name": "stdout",
     "output_type": "stream",
     "text": [
      "<__main__.Nada object at 0x0000019CB726B390>\n"
     ]
    }
   ],
   "source": [
    "#clases\n",
    "\n",
    "class Nada:\n",
    "    pass\n",
    "\n",
    "\n",
    "una_nada= Nada() #instanciar una clase\n",
    "print(una_nada)\n"
   ]
  },
  {
   "cell_type": "code",
   "execution_count": 9,
   "metadata": {},
   "outputs": [
    {
     "name": "stdout",
     "output_type": "stream",
     "text": [
      "<class '__main__.Nada'>\n"
     ]
    }
   ],
   "source": [
    "print(type(una_nada))"
   ]
  },
  {
   "cell_type": "code",
   "execution_count": 31,
   "metadata": {},
   "outputs": [
    {
     "name": "stdout",
     "output_type": "stream",
     "text": [
      "constructor Auto\n",
      "None\n",
      "amazul\n",
      "1\n",
      "<bound method Auto.numero_chasis of <__main__.Auto object at 0x0000019CB7711C50>>\n",
      "Color: amazul \n",
      "Chasis: 1\n"
     ]
    }
   ],
   "source": [
    "class Auto:\n",
    "    color=None #las propiedades deben inicializarse\n",
    "    __numero_chasis=1 # propiedad privada.- pero si se puede acceder\n",
    "    \n",
    "    \n",
    "    \n",
    "    def __init__(self, color): #self hace referencia a this\n",
    "        print(\"constructor Auto\")\n",
    "        print(self.color)\n",
    "        self.color=color\n",
    "        \n",
    "        \n",
    "    def __str__(self):\n",
    "        return f\"Color: {self.color} \\nChasis: {self.__numero_chasis}\"\n",
    "    \n",
    "    def numero_chasis(self):\n",
    "        return self.__calcular_impuesto()\n",
    "    \n",
    "    def __calcular_impuesto():\n",
    "        return 14 * self.__numero_chasis\n",
    "    \n",
    "nuevo_auto =Auto(\"amazul\")\n",
    "print(nuevo_auto.color)\n",
    "print(nuevo_auto._Auto__numero_chasis)\n",
    "print(nuevo_auto.numero_chasis)\n",
    "print(nuevo_auto)\n"
   ]
  },
  {
   "cell_type": "code",
   "execution_count": 25,
   "metadata": {},
   "outputs": [
    {
     "name": "stdout",
     "output_type": "stream",
     "text": [
      "inicio BMW\n",
      "constructor Auto\n",
      "None\n",
      "Color: Blanco \n",
      "Chasis: 1\n"
     ]
    }
   ],
   "source": [
    "class BMW(Auto):\n",
    "    def __init__(self, color=\"Blanco\"): #constructor\n",
    "        print(\"inicio BMW\")\n",
    "        super().__init__(color)\n",
    "        \n",
    "carrito = BMW()\n",
    "print(carrito)"
   ]
  },
  {
   "cell_type": "code",
   "execution_count": 39,
   "metadata": {},
   "outputs": [
    {
     "name": "stdout",
     "output_type": "stream",
     "text": [
      "7\n",
      "-3\n",
      "10\n",
      "0.4\n"
     ]
    }
   ],
   "source": [
    "#Funciones dentro de Funciones\n",
    "\n",
    "def calculadora(num_uno, num_dos, operacion=\"suma\"):\n",
    "    def suma():\n",
    "        return num_uno+num_dos\n",
    "    def resta():\n",
    "        return num_uno - num_dos    \n",
    "    def multiplicacion():\n",
    "        return num_uno * num_dos\n",
    "    def division():\n",
    "        return num_uno / num_dos\n",
    "    \n",
    "    #switch en phyton no hay \n",
    "    def opcion_seleccionada():\n",
    "        #otra forma\n",
    "        # return= {'suma': sumar(),'resta': resta(),'multiplicacion': multiplicacion(),'division': division()} [operacion]  \n",
    "        opciones= {'suma': suma(),'resta': resta(),'multiplicacion': multiplicacion(),'division': division()}\n",
    "        return opciones[operacion]        \n",
    "    \n",
    "    return opcion_seleccionada()\n",
    "\n",
    "print (calculadora(2,5))\n",
    "print (calculadora(2,5, \"resta\"))\n",
    "print (calculadora(2,5, \"multiplicacion\"))\n",
    "print (calculadora(2,5, \"division\"))\n",
    "\n"
   ]
  },
  {
   "cell_type": "code",
   "execution_count": 40,
   "metadata": {},
   "outputs": [
    {
     "name": "stdout",
     "output_type": "stream",
     "text": [
      "dime tu edad: 23\n"
     ]
    },
    {
     "data": {
      "text/plain": [
       "'23'"
      ]
     },
     "execution_count": 40,
     "metadata": {},
     "output_type": "execute_result"
    }
   ],
   "source": [
    "input (\"dime tu edad: \")\n"
   ]
  },
  {
   "cell_type": "code",
   "execution_count": null,
   "metadata": {},
   "outputs": [],
   "source": []
  }
 ],
 "metadata": {
  "kernelspec": {
   "display_name": "Python 3",
   "language": "python",
   "name": "python3"
  },
  "language_info": {
   "codemirror_mode": {
    "name": "ipython",
    "version": 3
   },
   "file_extension": ".py",
   "mimetype": "text/x-python",
   "name": "python",
   "nbconvert_exporter": "python",
   "pygments_lexer": "ipython3",
   "version": "3.7.3"
  }
 },
 "nbformat": 4,
 "nbformat_minor": 2
}
