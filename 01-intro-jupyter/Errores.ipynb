{
 "cells": [
  {
   "cell_type": "code",
   "execution_count": 7,
   "metadata": {},
   "outputs": [
    {
     "name": "stdout",
     "output_type": "stream",
     "text": [
      "Error\n",
      "No se cae\n"
     ]
    }
   ],
   "source": [
    "#asadsfs SyntaxError\n",
    "#0/0 ZeroDivisionError\n",
    "#a+b NameError\n",
    "#a= {'a':\"b}\n",
    "\n",
    "try:\n",
    "    0/0\n",
    "except Exception as error:\n",
    "    print(\"Error\")\n",
    "print(\"No se cae\")\n",
    "\n"
   ]
  },
  {
   "cell_type": "code",
   "execution_count": 8,
   "metadata": {},
   "outputs": [
    {
     "name": "stdout",
     "output_type": "stream",
     "text": [
      "Name Error\n"
     ]
    }
   ],
   "source": [
    "try:\n",
    "    a+b\n",
    "    0/0\n",
    "except NameError as nameError:\n",
    "    print(\"Name Error\")\n",
    "except ZeroDivisionError as zeroError:\n",
    "    print(\"Zero error\")\n",
    "except Exception as error:\n",
    "    print(\"error\")"
   ]
  },
  {
   "cell_type": "code",
   "execution_count": 25,
   "metadata": {},
   "outputs": [
    {
     "name": "stdout",
     "output_type": "stream",
     "text": [
      "Error comun agrupado\n"
     ]
    }
   ],
   "source": [
    "try:\n",
    "    #a+b\n",
    "    #0/0\n",
    "    a = {'b': 'b'} \n",
    "    a['c']\n",
    "except NameError as nameError:\n",
    "    print(\"Name Error\")\n",
    "except (ZeroDivisionError,KeyError) as errorComun:\n",
    "    print(\"Error comun agrupado\")\n",
    "except Exception as error:\n",
    "    print(\"error\")"
   ]
  },
  {
   "cell_type": "code",
   "execution_count": null,
   "metadata": {},
   "outputs": [],
   "source": []
  }
 ],
 "metadata": {
  "kernelspec": {
   "display_name": "Python 3",
   "language": "python",
   "name": "python3"
  },
  "language_info": {
   "codemirror_mode": {
    "name": "ipython",
    "version": 3
   },
   "file_extension": ".py",
   "mimetype": "text/x-python",
   "name": "python",
   "nbconvert_exporter": "python",
   "pygments_lexer": "ipython3",
   "version": "3.7.3"
  }
 },
 "nbformat": 4,
 "nbformat_minor": 2
}
