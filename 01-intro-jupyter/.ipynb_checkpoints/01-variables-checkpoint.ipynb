{
 "cells": [
  {
   "cell_type": "code",
   "execution_count": 1,
   "metadata": {},
   "outputs": [
    {
     "name": "stdout",
     "output_type": "stream",
     "text": [
      "hola mundo\n"
     ]
    }
   ],
   "source": [
    "print(\"hola mundo\")"
   ]
  },
  {
   "cell_type": "code",
   "execution_count": 3,
   "metadata": {},
   "outputs": [
    {
     "name": "stdout",
     "output_type": "stream",
     "text": [
      "<class 'int'>\n",
      "<class 'float'>\n",
      "<class 'str'>\n",
      "<class 'bool'>\n",
      "<class 'bool'>\n",
      "<class 'NoneType'>\n"
     ]
    }
   ],
   "source": [
    "##varaibles primitivas\n",
    "##no se usa camelCase.. se nombra todo con guion bajo\n",
    "entero =3  ##antes del igual debe tener un espacio\n",
    "decimal =1.1\n",
    "nombre =\"Laura\"\n",
    "segundo_nombre =\"Alexandra\"\n",
    "casado =True\n",
    "profesor =False\n",
    "hijos =None\n",
    "\n",
    "print(type(entero))  #int  ##un comentario en la misma linea debe tener dos espacios\n",
    "print(type(decimal))  #float\n",
    "print(type(segundo_nombre))  #str\n",
    "print(type(casado))  #bool\n",
    "print(type(profesor))  #bool\n",
    "print(type(hijos))  #NoneTyoe\n",
    "\n",
    "texto=\"\"\"\n",
    "bloque de comentarios\n",
    "adas\n",
    "dasefef\n",
    "\"\"\"\n",
    "\n",
    "\n"
   ]
  },
  {
   "cell_type": "code",
   "execution_count": 4,
   "metadata": {},
   "outputs": [
    {
     "name": "stdout",
     "output_type": "stream",
     "text": [
      "3\n",
      "1.1\n"
     ]
    }
   ],
   "source": [
    "print(entero)\n",
    "entero =decimal  ##se puede rasignar valores de cualquier tipo a las variables \n",
    "entero =hijos\n",
    "entero =casado\n",
    "entero =nombre\n",
    "print(entero)"
   ]
  },
  {
   "cell_type": "code",
   "execution_count": 12,
   "metadata": {},
   "outputs": [
    {
     "name": "stdout",
     "output_type": "stream",
     "text": [
      "<class 'tuple'>\n",
      "<class 'list'>\n",
      "<class 'dict'>\n",
      "Falsy\n",
      "Truty\n",
      "Falsy\n",
      "Truty\n",
      "Truty\n",
      "Falsy\n",
      "Truty\n",
      "Falsy\n",
      "Falsy\n",
      "Truty\n",
      "Falsy\n",
      "Truty\n",
      "Falsy\n",
      "Truty\n"
     ]
    }
   ],
   "source": [
    "#Condicion(Boolean)\n",
    "#Truty\n",
    "#Falsy\n",
    "\n",
    "tuplas =()\n",
    "listas=[]\n",
    "diccionario={}\n",
    "print(type(tuplas))  #tuple\n",
    "print(type(listas))  #list\n",
    "print(type(diccionario))  #dict\n",
    "\n",
    "if(\"\"):\n",
    "    print(\"Truty\")  \n",
    "else:\n",
    "    print(\"Falsy\")  ##falsy\n",
    "    \n",
    "if(\"hola\"):\n",
    "    print(\"Truty\")  ##truty\n",
    "else:\n",
    "    print(\"Falsy\")\n",
    "\n",
    "if(0):\n",
    "    print(\"Truty\")\n",
    "else:\n",
    "    print(\"Falsy\")  #falsy\n",
    "\n",
    "if(-1):\n",
    "    print(\"Truty\")  #truty\n",
    "else:\n",
    "    print(\"Falsy\")\n",
    "\n",
    "if(1):\n",
    "    print(\"Truty\")  #Truty\n",
    "else:\n",
    "    print(\"Falsy\")\n",
    "\n",
    "if(0.00):\n",
    "    print(\"Truty\")\n",
    "else:\n",
    "    print(\"Falsy\")  ##falsy\n",
    "    \n",
    "if(0.01):\n",
    "    print(\"Truty\")  #Truty\n",
    "else:\n",
    "    print(\"Falsy\")  \n",
    "    \n",
    "if(None):\n",
    "    print(\"Truty\")  \n",
    "else:\n",
    "    print(\"Falsy\")  #falsy\n",
    "    \n",
    "if(()):\n",
    "    print(\"Truty\")  \n",
    "else:\n",
    "    print(\"Falsy\")  #falsy\n",
    "\n",
    "if((1,2)):\n",
    "    print(\"Truty\")  #Truty\n",
    "else:\n",
    "    print(\"Falsy\")      \n",
    "    \n",
    "if([]):\n",
    "    print(\"Truty\")  \n",
    "else:\n",
    "    print(\"Falsy\")  #falsy\n",
    "    \n",
    "if([\"a\",\"b\"]):\n",
    "    print(\"Truty\")  #truty\n",
    "else:\n",
    "    print(\"Falsy\") \n",
    "    \n",
    "if({}):\n",
    "    print(\"Truty\")  \n",
    "else:\n",
    "    print(\"Falsy\")  #falsy\n",
    "    \n",
    "if({nombre:\"Laura\"}):\n",
    "    print(\"Truty\")  #Truty\n",
    "else:\n",
    "    print(\"Falsy\")  "
   ]
  },
  {
   "cell_type": "code",
   "execution_count": 26,
   "metadata": {},
   "outputs": [
    {
     "data": {
      "text/plain": [
       "[1, 2, 3, 4, 5, 6, 7, 8, 9, 10]"
      ]
     },
     "execution_count": 26,
     "metadata": {},
     "output_type": "execute_result"
    }
   ],
   "source": [
    "#arreglos\n",
    "arreglo=[1, 2, 3, 4, 5, 6, 7, 8, 9, 10]\n",
    "arreglo[2:5]  #cerrada a la izquierda y a la derecha abierto Filtrar ([2, 5[)\n",
    "arreglo[2:]  #cuando no se pone el indice quiere decir todos\n",
    "arreglo[:7]\n",
    "arreglo[-1]  #el ultimo indice\n",
    "arreglo[2:-1]  #cerrado el de la izquierda y abierto a la derecha Filtrar ([2, 5[)\n",
    "arreglo[-8:-1]\n",
    "arreglo[-9:]\n",
    "arreglo[:-2]\n",
    "arreglo[:]\n",
    "\n"
   ]
  },
  {
   "cell_type": "code",
   "execution_count": 27,
   "metadata": {},
   "outputs": [
    {
     "name": "stdout",
     "output_type": "stream",
     "text": [
      "<class 'bool'>\n",
      "True\n"
     ]
    }
   ],
   "source": [
    "#ver si un elemento esta dentro de un arreglo\n",
    "\n",
    "print(type(7 in arreglo))\n",
    "print(7 in arreglo)\n"
   ]
  },
  {
   "cell_type": "code",
   "execution_count": 28,
   "metadata": {},
   "outputs": [
    {
     "data": {
      "text/plain": [
       "10"
      ]
     },
     "execution_count": 28,
     "metadata": {},
     "output_type": "execute_result"
    }
   ],
   "source": [
    "#tamaño\n",
    "len(arreglo)"
   ]
  },
  {
   "cell_type": "code",
   "execution_count": 29,
   "metadata": {},
   "outputs": [
    {
     "name": "stdout",
     "output_type": "stream",
     "text": [
      "[1, 2, 3, 4, 5, 6, 7, 8, 9, 10, 11]\n"
     ]
    }
   ],
   "source": [
    "#agregar elementos al final del arreglo\n",
    "arreglo.append(11)\n",
    "print(arreglo)"
   ]
  },
  {
   "cell_type": "code",
   "execution_count": 30,
   "metadata": {},
   "outputs": [
    {
     "data": {
      "text/plain": [
       "11"
      ]
     },
     "execution_count": 30,
     "metadata": {},
     "output_type": "execute_result"
    }
   ],
   "source": [
    "#eliminar elementos\n",
    "arreglo.pop()"
   ]
  },
  {
   "cell_type": "code",
   "execution_count": 31,
   "metadata": {},
   "outputs": [
    {
     "name": "stdout",
     "output_type": "stream",
     "text": [
      "[1, 1.1, 2, 3, 4, 5, 6, 7, 8, 9, 10]\n"
     ]
    }
   ],
   "source": [
    "#insertar donde sea necesario\n",
    "arreglo.insert(1,1.1)\n",
    "print(arreglo)"
   ]
  },
  {
   "cell_type": "code",
   "execution_count": 41,
   "metadata": {},
   "outputs": [
    {
     "name": "stdout",
     "output_type": "stream",
     "text": [
      "1\n",
      "1.1\n",
      "2\n",
      "3\n",
      "4\n",
      "5\n",
      "6\n",
      "7\n",
      "8\n",
      "9\n",
      "10\n",
      "0\n",
      "1\n",
      "2\n",
      "3\n",
      "4\n",
      "5\n",
      "6\n",
      "7\n",
      "8\n",
      "9\n"
     ]
    }
   ],
   "source": [
    "for numero in arreglo:\n",
    "    print(numero)\n",
    "\n",
    "\n",
    "contador=0\n",
    "while(contador < 10):\n",
    "    print(contador)\n",
    "    contador+= 1\n",
    "    \n"
   ]
  },
  {
   "cell_type": "code",
   "execution_count": 43,
   "metadata": {},
   "outputs": [
    {
     "data": {
      "text/plain": [
       "(1, 2, 3)"
      ]
     },
     "execution_count": 43,
     "metadata": {},
     "output_type": "execute_result"
    }
   ],
   "source": [
    "tupla_numeros=(1,2,3,4,5)\n",
    "tupla_numeros[0:3]"
   ]
  },
  {
   "cell_type": "code",
   "execution_count": 44,
   "metadata": {},
   "outputs": [
    {
     "data": {
      "text/plain": [
       "5"
      ]
     },
     "execution_count": 44,
     "metadata": {},
     "output_type": "execute_result"
    }
   ],
   "source": [
    "len(tupla_numeros)"
   ]
  },
  {
   "cell_type": "code",
   "execution_count": 45,
   "metadata": {},
   "outputs": [
    {
     "data": {
      "text/plain": [
       "True"
      ]
     },
     "execution_count": 45,
     "metadata": {},
     "output_type": "execute_result"
    }
   ],
   "source": [
    "3 in tupla_numeros  #las tuplas son similares a los arreglos"
   ]
  },
  {
   "cell_type": "code",
   "execution_count": 55,
   "metadata": {},
   "outputs": [
    {
     "data": {
      "text/plain": [
       "{'nombre': 'Laura',\n",
       " 'apellido': 'ceron',\n",
       " 'edad': 27,\n",
       " 'salario': 1.2,\n",
       " 'hijos': None,\n",
       " 'casado': True,\n",
       " 'mascotas': [{'nombre': 'centavito'}]}"
      ]
     },
     "execution_count": 55,
     "metadata": {},
     "output_type": "execute_result"
    }
   ],
   "source": [
    "laura= { ##todos los diccionarios van a tener comillas dobles o simples\n",
    "    \"nombre\" :\"Laura\",\n",
    "    \"apellido\" :\"ceron\",\n",
    "    'edad':27, \n",
    "    'salario' :1.2,\n",
    "    \"hijos\": None,\n",
    "    \"casado\": True,\n",
    "    \"mascotas\": [{\"nombre\" :\"centavito\"}]\n",
    "    \n",
    "}\n",
    "laura"
   ]
  },
  {
   "cell_type": "code",
   "execution_count": 57,
   "metadata": {},
   "outputs": [
    {
     "data": {
      "text/plain": [
       "'ceron'"
      ]
     },
     "execution_count": 57,
     "metadata": {},
     "output_type": "execute_result"
    }
   ],
   "source": [
    "laura[\"apellido\"]"
   ]
  },
  {
   "cell_type": "code",
   "execution_count": 58,
   "metadata": {},
   "outputs": [
    {
     "data": {
      "text/plain": [
       "'centavito'"
      ]
     },
     "execution_count": 58,
     "metadata": {},
     "output_type": "execute_result"
    }
   ],
   "source": [
    "laura[\"apellido\"] = \"Tirira\"\n",
    "laura[\"apellido\"]\n",
    "laura[\"mascotas\"][0][\"nombre\"]"
   ]
  },
  {
   "cell_type": "code",
   "execution_count": 59,
   "metadata": {},
   "outputs": [
    {
     "data": {
      "text/plain": [
       "dict_keys(['nombre', 'apellido', 'edad', 'salario', 'hijos', 'casado', 'mascotas'])"
      ]
     },
     "execution_count": 59,
     "metadata": {},
     "output_type": "execute_result"
    }
   ],
   "source": [
    "laura.keys()\n"
   ]
  },
  {
   "cell_type": "code",
   "execution_count": 60,
   "metadata": {},
   "outputs": [
    {
     "data": {
      "text/plain": [
       "dict_values(['Laura', 'Tirira', 27, 1.2, None, True, [{'nombre': 'centavito'}]])"
      ]
     },
     "execution_count": 60,
     "metadata": {},
     "output_type": "execute_result"
    }
   ],
   "source": [
    "laura.values()"
   ]
  },
  {
   "cell_type": "code",
   "execution_count": 61,
   "metadata": {},
   "outputs": [
    {
     "data": {
      "text/plain": [
       "True"
      ]
     },
     "execution_count": 61,
     "metadata": {},
     "output_type": "execute_result"
    }
   ],
   "source": [
    "\"apellido\" in laura.keys()"
   ]
  },
  {
   "cell_type": "code",
   "execution_count": 63,
   "metadata": {},
   "outputs": [
    {
     "data": {
      "text/plain": [
       "True"
      ]
     },
     "execution_count": 63,
     "metadata": {},
     "output_type": "execute_result"
    }
   ],
   "source": [
    "\"Laura\" in laura.values()"
   ]
  },
  {
   "cell_type": "code",
   "execution_count": 64,
   "metadata": {},
   "outputs": [
    {
     "data": {
      "text/plain": [
       "True"
      ]
     },
     "execution_count": 64,
     "metadata": {},
     "output_type": "execute_result"
    }
   ],
   "source": [
    "1 ==1 or 2==3 #truty\n"
   ]
  },
  {
   "cell_type": "code",
   "execution_count": 65,
   "metadata": {},
   "outputs": [
    {
     "data": {
      "text/plain": [
       "False"
      ]
     },
     "execution_count": 65,
     "metadata": {},
     "output_type": "execute_result"
    }
   ],
   "source": [
    "1 ==1 and 2==3 #truty"
   ]
  },
  {
   "cell_type": "code",
   "execution_count": null,
   "metadata": {},
   "outputs": [],
   "source": []
  }
 ],
 "metadata": {
  "kernelspec": {
   "display_name": "Python 3",
   "language": "python",
   "name": "python3"
  },
  "language_info": {
   "codemirror_mode": {
    "name": "ipython",
    "version": 3
   },
   "file_extension": ".py",
   "mimetype": "text/x-python",
   "name": "python",
   "nbconvert_exporter": "python",
   "pygments_lexer": "ipython3",
   "version": "3.7.3"
  }
 },
 "nbformat": 4,
 "nbformat_minor": 2
}
