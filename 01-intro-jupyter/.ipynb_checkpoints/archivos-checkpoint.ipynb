{
 "cells": [
  {
   "cell_type": "code",
   "execution_count": 7,
   "metadata": {},
   "outputs": [
    {
     "name": "stdout",
     "output_type": "stream",
     "text": [
      "L1: hola que hace\n",
      "\n",
      "L2: buenos dias\n",
      "\n",
      "<class 'str'>\n",
      "L3: que estes bien\n",
      "\n",
      "L3: \n",
      "<class 'str'>\n"
     ]
    }
   ],
   "source": [
    "#archivos\n",
    "try:\n",
    "    path=\"./frases.txt\"\n",
    "    archivo_abierto=open(path)\n",
    "    linea_uno = archivo_abierto.readline()\n",
    "    print(f\"L1: {linea_uno}\")\n",
    "    linea_dos = archivo_abierto.readline()\n",
    "    print(f\"L2: {linea_dos}\")\n",
    "    print(type(linea_dos))\n",
    "    linea_tres = archivo_abierto.readline()\n",
    "    print(f\"L3: {linea_tres}\")\n",
    "    linea_cuatro = archivo_abierto.readline()\n",
    "    print(f\"L3: {linea_cuatro}\")\n",
    "    print(type(linea_cuatro))\n",
    "    \n",
    "    archivo_abierto.close()\n",
    "except Exception as error:\n",
    "    print(\"error\")"
   ]
  },
  {
   "cell_type": "code",
   "execution_count": 8,
   "metadata": {},
   "outputs": [
    {
     "name": "stdout",
     "output_type": "stream",
     "text": [
      "<class 'list'>\n",
      "['hola que hace\\n', 'buenos dias\\n', 'que estes bien\\n']\n",
      "hola que hace\n",
      "\n",
      "buenos dias\n",
      "\n",
      "que estes bien\n",
      "\n"
     ]
    }
   ],
   "source": [
    "try:\n",
    "    path=\"./frases.txt\"\n",
    "    archivo_abierto=open(path)\n",
    "    contenido = archivo_abierto.readlines();\n",
    "    print(type(contenido))\n",
    "    print(contenido)\n",
    "    for linea in contenido:\n",
    "        print(linea)\n",
    "    \n",
    "    \n",
    "    archivo_abierto.close()\n",
    "except Exception as error:\n",
    "    print(\"error\")"
   ]
  },
  {
   "cell_type": "code",
   "execution_count": 13,
   "metadata": {},
   "outputs": [],
   "source": [
    "try:\n",
    "    path=\"./frases.txt\"\n",
    "    archivo_escritura_abierto=open(path, mode=\"a\")\n",
    "    #a=>Append\n",
    "    #w =>write(sobre escribe)\n",
    "    archivo_escritura_abierto.write(\"Buenas madrugadas\\n\")    \n",
    "    archivo_escritura_abierto.writelines([\"asfaf\\n\",\"bewetw\\n\"])  \n",
    "    archivo_escritura_abierto.close()\n",
    "except Exception as error:\n",
    "    print(\"error\")"
   ]
  },
  {
   "cell_type": "code",
   "execution_count": null,
   "metadata": {},
   "outputs": [],
   "source": []
  }
 ],
 "metadata": {
  "kernelspec": {
   "display_name": "Python 3",
   "language": "python",
   "name": "python3"
  },
  "language_info": {
   "codemirror_mode": {
    "name": "ipython",
    "version": 3
   },
   "file_extension": ".py",
   "mimetype": "text/x-python",
   "name": "python",
   "nbconvert_exporter": "python",
   "pygments_lexer": "ipython3",
   "version": "3.7.3"
  }
 },
 "nbformat": 4,
 "nbformat_minor": 2
}
