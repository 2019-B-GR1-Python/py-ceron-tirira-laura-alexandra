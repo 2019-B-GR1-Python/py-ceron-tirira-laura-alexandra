{
 "cells": [
  {
   "cell_type": "code",
   "execution_count": 5,
   "metadata": {},
   "outputs": [
    {
     "name": "stdout",
     "output_type": "stream",
     "text": [
      "hola Laura\n",
      "hola Laura\n",
      "<class 'NoneType'>\n"
     ]
    }
   ],
   "source": [
    "#Funciones\n",
    "def hola_mundo():\n",
    "    print(\"hola Laura\")\n",
    "\n",
    "hola_mundo()\n",
    "\n",
    "print(type(hola_mundo()))"
   ]
  },
  {
   "cell_type": "code",
   "execution_count": 6,
   "metadata": {},
   "outputs": [
    {
     "name": "stdout",
     "output_type": "stream",
     "text": [
      "hola Laura\n",
      "hola Laura\n",
      "<class 'NoneType'>\n"
     ]
    }
   ],
   "source": [
    "#Funciones\n",
    "def hola_mundo():\n",
    "    print(\"hola Laura\")\n",
    "\n",
    "hola_mundo()\n",
    "\n",
    "print(type(hola_mundo()))"
   ]
  },
  {
   "cell_type": "code",
   "execution_count": 16,
   "metadata": {},
   "outputs": [
    {
     "name": "stdout",
     "output_type": "stream",
     "text": [
      "3\n"
     ]
    }
   ],
   "source": [
    "def sumar_dos_numeros(num_uno, num_dos): #agumentos requeridos\n",
    "    return num_uno + num_dos\n",
    "    \n",
    "suma=sumar_dos_numeros(1,2)\n",
    "print(suma)"
   ]
  },
  {
   "cell_type": "code",
   "execution_count": 17,
   "metadata": {},
   "outputs": [
    {
     "name": "stdout",
     "output_type": "stream",
     "text": [
      "EPN\n",
      "ESPE\n"
     ]
    }
   ],
   "source": [
    "def imprimir_universidad(nombre='EPN'): #arg opcional\n",
    "    print(f\"{nombre}\")\n",
    "\n",
    "imprimir_universidad()\n",
    "imprimir_universidad('ESPE')"
   ]
  },
  {
   "cell_type": "code",
   "execution_count": 19,
   "metadata": {},
   "outputs": [
    {
     "name": "stdout",
     "output_type": "stream",
     "text": [
      "Color: rojo\n",
      "Placa: ABC-123\n",
      "Caballos de fuerza: 2300\n",
      "Año: 2019\n"
     ]
    }
   ],
   "source": [
    "def imprimir_carro(color,placa,hp,anio):\n",
    "    print(f\"Color: {color}\")\n",
    "    print(f\"Placa: {placa}\")\n",
    "    print(f\"Caballos de fuerza: {hp}\")\n",
    "    print(f\"Año: {anio}\")\n",
    "\n",
    "imprimir_carro(\"rojo\",\"ABC-123\",2300,2019)\n",
    "\n"
   ]
  },
  {
   "cell_type": "code",
   "execution_count": 21,
   "metadata": {},
   "outputs": [
    {
     "name": "stdout",
     "output_type": "stream",
     "text": [
      "Color: Azul\n",
      "Placa: adr-123\n",
      "Caballos de fuerza: 3500\n",
      "Año: 2005\n",
      "Color: cafe\n",
      "Placa: adr-123\n",
      "Caballos de fuerza: 3500\n",
      "Año: 2005\n"
     ]
    }
   ],
   "source": [
    "#Named Parameters\n",
    "imprimir_carro(anio=2005,color=\"Azul\", placa=\"adr-123\",hp=3500)\n",
    "\n",
    "#Positional Parameters\n",
    "imprimir_carro(\"cafe\" , anio=2005, placa=\"adr-123\",hp=3500)\n"
   ]
  },
  {
   "cell_type": "code",
   "execution_count": 25,
   "metadata": {},
   "outputs": [
    {
     "name": "stdout",
     "output_type": "stream",
     "text": [
      "<class 'int'>\n",
      "<class 'tuple'>\n"
     ]
    }
   ],
   "source": [
    "#hay un orden el los parametros requeridos y no requeridos\n",
    "#primero van los requeridos y a continuacion los opcionales\n",
    "\n",
    "#reglas\n",
    "#1) Parametros requeridos 1ero y luego los opcionales\n",
    "#2) Enviar siempre los parametros requeridos.\n",
    "#3) Si ya se escribe un parametro nombrado todos los parametros restantes deben ser nombrados\n",
    "\n",
    "\n",
    "def sumar_numeros(primer_numero, *numeros): #param.Infinitos\n",
    "    print(type(primer_numero))\n",
    "    print(type(numeros))\n",
    "    \n",
    "sumar_numeros(1,2)\n",
    "\n",
    "\n"
   ]
  },
  {
   "cell_type": "code",
   "execution_count": 27,
   "metadata": {},
   "outputs": [
    {
     "data": {
      "text/plain": [
       "1"
      ]
     },
     "execution_count": 27,
     "metadata": {},
     "output_type": "execute_result"
    }
   ],
   "source": [
    "def sumar_numeros2(primer_numero, *numeros): #param.Infinitos\n",
    "    longitud= len(numeros)\n",
    "    if(longitud==0):\n",
    "        return primer_numero\n",
    "    else:\n",
    "        suma=0 +primer_numero\n",
    "        for numero in numeros:\n",
    "            suma=suma+numero\n",
    "        return suma    \n",
    "    \n",
    "sumar_numeros2(1)"
   ]
  },
  {
   "cell_type": "code",
   "execution_count": 28,
   "metadata": {},
   "outputs": [
    {
     "name": "stdout",
     "output_type": "stream",
     "text": [
      "<class 'dict'>\n",
      "{}\n"
     ]
    }
   ],
   "source": [
    "#\n",
    "def imprimir_configuracion(nombre, valor=10,*valores_carga,\n",
    "                           **key_word_arguments):\n",
    "    print(type(key_word_arguments))\n",
    "    print(key_word_arguments)\n",
    "\n",
    "imprimir_configuracion(\"config_1\" ,20, 30, 40 ,50)"
   ]
  },
  {
   "cell_type": "code",
   "execution_count": 31,
   "metadata": {},
   "outputs": [
    {
     "name": "stdout",
     "output_type": "stream",
     "text": [
      "<class 'dict'>\n",
      "{'tiempo_espera': 30, 'numero_parametros': 5}\n"
     ]
    }
   ],
   "source": [
    "#kwargs #diccionario.\n",
    "imprimir_configuracion(nombre=\"config_1\" ,valor=20,\n",
    "                       tiempo_espera=30,\n",
    "                       numero_parametros=5)\n"
   ]
  },
  {
   "cell_type": "code",
   "execution_count": null,
   "metadata": {},
   "outputs": [],
   "source": []
  }
 ],
 "metadata": {
  "kernelspec": {
   "display_name": "Python 3",
   "language": "python",
   "name": "python3"
  },
  "language_info": {
   "codemirror_mode": {
    "name": "ipython",
    "version": 3
   },
   "file_extension": ".py",
   "mimetype": "text/x-python",
   "name": "python",
   "nbconvert_exporter": "python",
   "pygments_lexer": "ipython3",
   "version": "3.7.3"
  }
 },
 "nbformat": 4,
 "nbformat_minor": 2
}
